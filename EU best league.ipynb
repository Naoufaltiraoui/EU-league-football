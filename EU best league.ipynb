{
 "cells": [
  {
   "cell_type": "code",
   "execution_count": null,
   "id": "d8725d49",
   "metadata": {},
   "outputs": [],
   "source": [
    "# # Comment out and Install necessary libraries \n",
    "# pip install pandas\n",
    "# pip install selenium\n",
    "# pip install scikit-learn\n",
    "# pip install requests \n",
    "# pip install lxml "
   ]
  },
  {
   "cell_type": "markdown",
   "id": "bee726df",
   "metadata": {},
   "source": [
    "# 1. Data Collection"
   ]
  },
  {
   "cell_type": "code",
   "execution_count": 20,
   "id": "52f3e54d",
   "metadata": {},
   "outputs": [],
   "source": [
    "import warnings\n",
    "\n",
    "# Suppress all warnings\n",
    "warnings.filterwarnings('ignore')"
   ]
  },
  {
   "cell_type": "code",
   "execution_count": 2,
   "id": "8c201b38",
   "metadata": {},
   "outputs": [],
   "source": [
    "import requests\n",
    "from lxml import html\n",
    "import pandas as pd"
   ]
  },
  {
   "cell_type": "markdown",
   "id": "d63a3b5d",
   "metadata": {},
   "source": [
    "## Extract Ligue 1 League Data"
   ]
  },
  {
   "cell_type": "code",
   "execution_count": 61,
   "id": "1855b2ad",
   "metadata": {},
   "outputs": [
    {
     "name": "stdout",
     "output_type": "stream",
     "text": [
      "Saved data for all seasons of Ligue 1 to Ligue1_all_seasons_1.csv\n"
     ]
    }
   ],
   "source": [
    "\n",
    "def get_ligue1_data(seasons):\n",
    "    base_url = 'https://www.ligue1.com/ranking?seasonId={season}&StatsActiveTab=0'\n",
    "    \n",
    "    all_data = []\n",
    "    \n",
    "    for season in seasons:\n",
    "        season_url = base_url.format(season=season.replace(\"/\", \"-\"))\n",
    "        response = requests.get(season_url)\n",
    "        \n",
    "        # Check if the request was successful\n",
    "        if response.status_code != 200:\n",
    "            print(f\"Failed to retrieve data for Ligue 1 {season}. Status code: {response.status_code}\")\n",
    "            continue\n",
    "\n",
    "        tree = html.fromstring(response.content)\n",
    "        \n",
    "        # XPath to extract the table rows\n",
    "        rows = tree.xpath('//div[@class=\"classement-table-body\"]/ul/li')\n",
    "        \n",
    "        if not rows:\n",
    "            print(f\"Failed to find table for Ligue 1 {season}.\")\n",
    "            continue\n",
    "\n",
    "        for row in rows:\n",
    "            position = row.xpath('.//div[contains(@class, \"GeneralStats-item--position\")]/text()')\n",
    "            team = row.xpath('.//div[contains(@class, \"GeneralStats-item--club\")]//span[contains(@class, \"desktop-item\")]/text()')\n",
    "            points = row.xpath('.//div[contains(@class, \"GeneralStats-item--points\")]/text()')\n",
    "            played = row.xpath('.//div[contains(@class, \"GeneralStats-item\") and not(contains(@class, \"GeneralStats-item--points\"))][3]/text()')\n",
    "            won = row.xpath('.//div[contains(@class, \"GeneralStats-item RankPage-mobileHide\")][1]/text()')\n",
    "            drawn = row.xpath('.//div[contains(@class, \"GeneralStats-item RankPage-mobileHide\")][2]/text()')\n",
    "            lost = row.xpath('.//div[contains(@class, \"GeneralStats-item RankPage-mobileHide\")][3]/text()')\n",
    "            gf = row.xpath('.//div[contains(@class, \"GeneralStats-item RankPage-mobileHide\")][4]/text()')\n",
    "            ga = row.xpath('.//div[contains(@class, \"GeneralStats-item RankPage-mobileHide\")][5]/text()')\n",
    "            diff = row.xpath('.//div[@class=\"GeneralStats-item\"][2]/text()')\n",
    "            form_elements = row.xpath('.//div[contains(@class, \"GeneralStats-item RankPage-mobileHide forme\")]/span')\n",
    "            \n",
    "            # Use default values if elements are not found\n",
    "            position = position[0].strip() if position else 'N/A'\n",
    "            team = team[0].strip() if team else 'N/A'\n",
    "            points = points[0].strip() if points else 'N/A'\n",
    "            played = played[0].strip() if played else 'N/A'\n",
    "            won = won[0].strip() if won else 'N/A'\n",
    "            drawn = drawn[0].strip() if drawn else 'N/A'\n",
    "            lost = lost[0].strip() if lost else 'N/A'\n",
    "            gf = gf[0].strip() if gf else 'N/A'\n",
    "            ga = ga[0].strip() if ga else 'N/A'\n",
    "            diff = diff[0].strip() if diff else 'N/A'\n",
    "            \n",
    "            # Check for class attribute in form elements\n",
    "            form = ''.join([span.attrib['class'].split(' ')[1] if 'class' in span.attrib else '' for span in form_elements]) if form_elements else 'N/A'\n",
    "\n",
    "            all_data.append([season, position, team, points, played, won, drawn, lost, gf, ga, diff, form])\n",
    "    \n",
    "    headers = ['Season', 'Position', 'Team', 'Points', 'Played', 'Won', 'Drawn', 'Lost', 'GF', 'GA', 'Diff', 'Form']\n",
    "    df = pd.DataFrame(all_data, columns=headers)\n",
    "    csv_filename = 'Ligue1_all_seasons.csv'\n",
    "    df.to_csv(csv_filename, index=False)\n",
    "    print(f\"Saved data for all seasons of Ligue 1 to {csv_filename}\")\n",
    "\n",
    "seasons = [f\"{year}-{year+1}\" for year in range(2003, 2024)]\n",
    "get_ligue1_data(seasons)"
   ]
  },
  {
   "cell_type": "markdown",
   "id": "ac6e2ee2",
   "metadata": {},
   "source": [
    "## Extract Bundesliga League Data"
   ]
  },
  {
   "cell_type": "code",
   "execution_count": 64,
   "id": "db99f6ce",
   "metadata": {},
   "outputs": [
    {
     "name": "stdout",
     "output_type": "stream",
     "text": [
      "Saved data for all seasons of Bundesliga to bundesliga_data_2.csv\n"
     ]
    }
   ],
   "source": [
    "def get_bundesliga_data(seasons):\n",
    "    base_url = 'https://www.bundesliga.com/en/bundesliga/table'\n",
    "    \n",
    "    all_data = []\n",
    "    \n",
    "    for season in seasons:\n",
    "        season_url = f'{base_url}?seasonId={season.replace(\"/\", \"-\")}'\n",
    "        response = requests.get(season_url)\n",
    "        \n",
    "        # Check if the request was successful\n",
    "        if response.status_code != 200:\n",
    "            print(f\"Failed to retrieve data for Bundesliga {season}. Status code: {response.status_code}\")\n",
    "            continue\n",
    "\n",
    "        tree = html.fromstring(response.content)\n",
    "        \n",
    "        # XPath to extract the table rows\n",
    "        rows = tree.xpath('//tbody[@class=\"ng-star-inserted\"]/tr')\n",
    "        \n",
    "        if not rows:\n",
    "            print(f\"Failed to find table for Bundesliga {season}.\")\n",
    "            continue\n",
    "\n",
    "        for row in rows:\n",
    "            # print(html.tostring(row, pretty_print=True).decode())  # Print the row's HTML content for debugging\n",
    "\n",
    "            position = row.xpath('.//td[contains(@class, \"rank\")]/span/text()')\n",
    "            team = row.xpath('.//td[contains(@class, \"team\")]/div/span[@class=\"d-none d-sm-inline-block\"]/text()')\n",
    "            points = row.xpath('.//td[contains(@class, \"pts\")]/span/text()')\n",
    "            played = row.xpath('.//td[contains(@class, \"matches\")]/span/text()')\n",
    "            won = row.xpath('.//td[contains(@class, \"wins\")]/span/text()')\n",
    "            drawn = row.xpath('.//td[contains(@class, \"draws\")]/span/text()')\n",
    "            lost = row.xpath('.//td[contains(@class, \"losses\")]/span/text()')\n",
    "            goals = row.xpath('.//td[contains(@class, \"goals\")]/span/text()')\n",
    "            diff = row.xpath('.//td[contains(@class, \"difference\")]/span/text()')\n",
    "            \n",
    "            # Split goals into GF and GA\n",
    "            gf, ga = goals[0].split(':') if goals else ('N/A', 'N/A')\n",
    "\n",
    "            # Use default values if elements are not found\n",
    "            position = position[0].strip() if position else 'N/A'\n",
    "            team = team[0].strip() if team else 'N/A'\n",
    "            points = points[0].strip() if points else 'N/A'\n",
    "            played = played[0].strip() if played else 'N/A'\n",
    "            won = won[0].strip() if won else 'N/A'\n",
    "            drawn = drawn[0].strip() if drawn else 'N/A'\n",
    "            lost = lost[0].strip() if lost else 'N/A'\n",
    "            gf = gf.strip() if gf else 'N/A'\n",
    "            ga = ga.strip() if ga else 'N/A'\n",
    "            diff = diff[0].strip() if diff else 'N/A'\n",
    "\n",
    "            # print(f\"Extracted Data - Position: {position}, Team: {team}, Points: {points}, Played: {played}, Won: {won}, Drawn: {drawn}, Lost: {lost}, GF: {gf}, GA: {ga}, Diff: {diff}\")  # Debug print\n",
    "\n",
    "            all_data.append([season, position, team, points, played, won, drawn, lost, gf, ga, diff])\n",
    "    \n",
    "    headers = ['Season', 'Position', 'Team', 'Points', 'Played', 'Won', 'Drawn', 'Lost', 'GF', 'GA', 'Diff']\n",
    "    df = pd.DataFrame(all_data, columns=headers)\n",
    "    csv_filename = 'bundesliga_data_2.csv'\n",
    "    df.to_csv(csv_filename, index=False)\n",
    "    print(f\"Saved data for all seasons of Bundesliga to {csv_filename}\")\n",
    "\n",
    "seasons = [f\"{year}/{year+1}\" for year in range(2003, 2023)]\n",
    "get_bundesliga_data(seasons)"
   ]
  },
  {
   "cell_type": "markdown",
   "id": "fbccf5bc",
   "metadata": {},
   "source": [
    "# Extract Serie A League Data"
   ]
  },
  {
   "cell_type": "code",
   "execution_count": null,
   "id": "666b4faf",
   "metadata": {},
   "outputs": [],
   "source": [
    "import csv\n",
    "from selenium import webdriver\n",
    "from selenium.webdriver.firefox.service import Service\n",
    "from selenium.webdriver.firefox.options import Options\n",
    "from selenium.webdriver.common.by import By\n",
    "from selenium.webdriver.support.ui import WebDriverWait\n",
    "from selenium.webdriver.support import expected_conditions as EC"
   ]
  },
  {
   "cell_type": "code",
   "execution_count": 1,
   "id": "97fca1c2",
   "metadata": {},
   "outputs": [
    {
     "name": "stdout",
     "output_type": "stream",
     "text": [
      "Data has been successfully saved to serie_a_data_d.csv\n"
     ]
    }
   ],
   "source": [
    "# Setup Selenium WebDriver with Firefox options\n",
    "firefox_options = Options()\n",
    "firefox_options.binary_location = r\"C:\\Program Files\\Mozilla Firefox\\firefox.exe\"  # Adjust the path to where Firefox is installed\n",
    "firefox_options.add_argument(\"--headless\")\n",
    "firefox_options.add_argument(\"--disable-gpu\")\n",
    "firefox_options.add_argument(\"--no-sandbox\")\n",
    "firefox_options.add_argument(\"--disable-dev-shm-usage\")\n",
    "\n",
    "# Correct path to your geckodriver executable\n",
    "gecko_driver_path = \"./geckodriver.exe\"\n",
    "\n",
    "# Initialize WebDriver\n",
    "service = Service(gecko_driver_path)\n",
    "driver = webdriver.Firefox(service=service, options=firefox_options)\n",
    "\n",
    "# List of seasons to scrape\n",
    "seasons = [f\"{year}-{str(year+1)[2:]}\" for year in range(2002, 2024)]\n",
    "\n",
    "# URL for the Serie A table\n",
    "url = \"https://www.legaseriea.it/en/serie-a/classifica\"\n",
    "\n",
    "# Initialize a list to store the extracted data\n",
    "all_data = []\n",
    "\n",
    "try:\n",
    "    # Open the URL\n",
    "    driver.get(url)\n",
    "    \n",
    "    for season in seasons:\n",
    "        # Wait for the season dropdown to be available\n",
    "        wait = WebDriverWait(driver, 10)\n",
    "        season_select = wait.until(EC.presence_of_element_located((By.NAME, \"season\")))\n",
    "        \n",
    "        # Use JavaScript to set the value of the dropdown\n",
    "        driver.execute_script(\"arguments[0].value = arguments[1];\", season_select, season)\n",
    "        \n",
    "        # Trigger change event for the dropdown\n",
    "        driver.execute_script(\"arguments[0].dispatchEvent(new Event('change'));\", season_select)\n",
    "        \n",
    "        # Wait for the table to be reloaded\n",
    "        wait.until(EC.presence_of_element_located((By.CLASS_NAME, \"hm-tbody\")))\n",
    "        \n",
    "        # Find the table body\n",
    "        table = driver.find_element(By.CLASS_NAME, \"hm-tbody\")\n",
    "        \n",
    "        # Find all rows in the table\n",
    "        rows = table.find_elements(By.TAG_NAME, \"tr\")\n",
    "        \n",
    "        # Extract headers manually since the headers do not load with the rows\n",
    "        # headers = ['POS', 'Club', 'PTS', 'P', 'W', 'D', 'L', 'GF', 'GA', 'GD', 'Trend']\n",
    "        headers = [\"Position\", \"Team\", \"Points\",\"Played\", \"Won\", \"Drawn\", \"Lost\", \"GF\", \"GA\", \"Diff\", \"Trend\"]\n",
    "\n",
    "        for row in rows:\n",
    "            # Extract columns from each row\n",
    "            columns = row.find_elements(By.TAG_NAME, \"td\")\n",
    "            data = [column.text.strip() for column in columns if column.text.strip()]\n",
    "            if data:\n",
    "                data.append(season)  # Add the season to the data row\n",
    "                all_data.append(data)\n",
    "finally:\n",
    "    # Close the WebDriver\n",
    "    driver.quit()\n",
    "\n",
    "# Save the data to a CSV file\n",
    "csv_file = \"serie_a_data_d.csv\"\n",
    "with open(csv_file, mode='w', newline='', encoding='utf-8') as file:\n",
    "    writer = csv.writer(file)\n",
    "    # Write the headers\n",
    "    writer.writerow(headers + ['Season'])\n",
    "    # Write the data\n",
    "    writer.writerows(all_data)\n",
    "\n",
    "print(f\"Data has been successfully saved to {csv_file}\")"
   ]
  },
  {
   "cell_type": "markdown",
   "id": "6a0696ec",
   "metadata": {},
   "source": [
    "# Extract Premier League Data"
   ]
  },
  {
   "cell_type": "code",
   "execution_count": null,
   "id": "aa544167",
   "metadata": {},
   "outputs": [],
   "source": [
    "# Setup Selenium WebDriver with Firefox options\n",
    "firefox_options = Options()\n",
    "firefox_options.binary_location = r\"C:\\Program Files\\Mozilla Firefox\\firefox.exe\"  # Adjust the path to where Firefox is installed\n",
    "firefox_options.add_argument(\"--headless\")\n",
    "firefox_options.add_argument(\"--disable-gpu\")\n",
    "firefox_options.add_argument(\"--no-sandbox\")\n",
    "firefox_options.add_argument(\"--disable-dev-shm-usage\")\n",
    "\n",
    "# Correct path to your geckodriver executable\n",
    "gecko_driver_path = \"./geckodriver.exe\"\n",
    "\n",
    "# Initialize WebDriver\n",
    "service = Service(gecko_driver_path)\n",
    "driver = webdriver.Firefox(service=service, options=firefox_options)\n",
    "\n",
    "# List of seasons to scrape\n",
    "seasons = [\n",
    "    \"2023/24\", \"2022/23\", \"2021/22\", \"2020/21\", \"2019/20\", \"2018/19\", \"2017/18\", \"2016/17\",\n",
    "    \"2015/16\", \"2014/15\", \"2013/14\", \"2012/13\", \"2011/12\", \"2010/11\", \"2009/10\", \"2008/09\",\n",
    "    \"2007/08\", \"2006/07\", \"2005/06\", \"2004/05\", \"2003/04\", \"2002/03\"\n",
    "]\n",
    "\n",
    "# URL for the Premier League table\n",
    "url = \"https://www.premierleague.com/tables\"\n",
    "\n",
    "# Initialize a list to store the extracted data\n",
    "all_data = []\n",
    "\n",
    "def open_dropdown(wait, retries=3):\n",
    "    for _ in range(retries):\n",
    "        try:\n",
    "            dropdown_button = wait.until(\n",
    "                EC.element_to_be_clickable((By.CSS_SELECTOR, \"div#dd-compSeasons\"))\n",
    "            )\n",
    "            driver.execute_script(\"arguments[0].scrollIntoView(true);\", dropdown_button)\n",
    "            driver.execute_script(\"arguments[0].click();\", dropdown_button)\n",
    "            print(\"Dropdown opened\")\n",
    "            return True\n",
    "        except Exception as e:\n",
    "            print(f\"Failed to open dropdown: {e}\")\n",
    "            time.sleep(2)\n",
    "    return False\n",
    "\n",
    "def select_season(wait, season):\n",
    "    for _ in range(3):  # Try up to 3 times\n",
    "        try:\n",
    "            season_option = wait.until(\n",
    "                EC.element_to_be_clickable((By.XPATH, f\"//li[@data-option-name='{season}']\"))\n",
    "            )\n",
    "            driver.execute_script(\"arguments[0].scrollIntoView(true);\", season_option)\n",
    "            driver.execute_script(\"arguments[0].click();\", season_option)\n",
    "            print(f\"Season {season} selected.\")\n",
    "            return True\n",
    "        except Exception as e:\n",
    "            print(f\"Attempt to select season {season} failed: {e}\")\n",
    "            time.sleep(2)\n",
    "    return False\n",
    "\n",
    "try:\n",
    "    driver.get(url)\n",
    "    \n",
    "    # Accept cookie consent if necessary\n",
    "    try:\n",
    "        accept_cookies_button = WebDriverWait(driver, 20).until(\n",
    "            EC.element_to_be_clickable((By.ID, \"onetrust-accept-btn-handler\"))\n",
    "        )\n",
    "        accept_cookies_button.click()\n",
    "        print(\"Cookie consent accepted.\")\n",
    "    except Exception as e:\n",
    "        print(\"No cookie consent banner found or unable to click.\")\n",
    "    \n",
    "    for season in seasons:\n",
    "        print(f\"Processing season: {season}\")\n",
    "        \n",
    "        # Open the dropdown to select the season\n",
    "        wait = WebDriverWait(driver, 20)\n",
    "        if not open_dropdown(wait):\n",
    "            print(f\"Failed to open dropdown for season {season}. Skipping season.\")\n",
    "            continue\n",
    "\n",
    "        # Wait for the season option to be visible and click it\n",
    "        if not select_season(wait, season):\n",
    "            print(f\"Failed to select season {season} after multiple attempts.\")\n",
    "            continue\n",
    "\n",
    "        # Wait for the table to load\n",
    "        time.sleep(5)  # Adjust the sleep time as needed for the table to load\n",
    "\n",
    "        # Locate the table\n",
    "        try:\n",
    "            table = wait.until(\n",
    "                EC.presence_of_element_located((By.CLASS_NAME, \"table\"))\n",
    "            )\n",
    "        except Exception as e:\n",
    "            print(f\"Failed to locate table for season {season}: {e}\")\n",
    "            continue\n",
    "\n",
    "        # Extract rows\n",
    "        try:\n",
    "            rows = table.find_element(By.TAG_NAME, \"tbody\").find_elements(By.TAG_NAME, \"tr\")\n",
    "        except Exception as e:\n",
    "            print(f\"Failed to extract rows for season {season}: {e}\")\n",
    "            continue\n",
    "\n",
    "        for row in rows:\n",
    "            columns = row.find_elements(By.TAG_NAME, \"td\")\n",
    "            if len(columns) > 10:  # Ensure that there are enough columns\n",
    "                data = [\n",
    "                    columns[0].text.strip(),  # Position\n",
    "                    columns[1].text.strip(),  # Club\n",
    "                    columns[2].text.strip(),  # Played\n",
    "                    columns[3].text.strip(),  # Won\n",
    "                    columns[4].text.strip(),  # Drawn\n",
    "                    columns[5].text.strip(),  # Lost\n",
    "                    columns[6].text.strip(),  # GF\n",
    "                    columns[7].text.strip(),  # GA\n",
    "                    columns[8].text.strip(),  # GD\n",
    "                    columns[9].text.strip()   # Points\n",
    "                ]\n",
    "                data.append(season)  # Add the season to the data row\n",
    "                all_data.append(data)\n",
    "\n",
    "        print(f\"Data for season {season} extracted successfully.\")\n",
    "\n",
    "finally:\n",
    "    # Close the WebDriver\n",
    "    driver.quit()\n",
    "\n",
    "# Save the data to a CSV file\n",
    "csv_file = \"premier_league_data.csv\"\n",
    "with open(csv_file, mode=\"w\", newline=\"\", encoding=\"utf-8\") as file:\n",
    "    writer = csv.writer(file)\n",
    "    writer.writerow([\"Position\", \"Club\", \"Played\", \"Won\", \"Drawn\", \"Lost\", \"GF\", \"GA\", \"GD\", \"Points\", \"Season\"])\n",
    "    writer.writerows(all_data)\n",
    "\n",
    "print(f\"Data saved to {csv_file}\")"
   ]
  },
  {
   "cell_type": "markdown",
   "id": "b4f98b4f",
   "metadata": {},
   "source": [
    "## Load Data"
   ]
  },
  {
   "cell_type": "code",
   "execution_count": 3,
   "id": "3ba270ac",
   "metadata": {},
   "outputs": [],
   "source": [
    "import pandas as pd\n",
    "from sklearn.model_selection import train_test_split\n",
    "from sklearn.ensemble import RandomForestClassifier\n",
    "from sklearn.metrics import accuracy_score"
   ]
  },
  {
   "cell_type": "code",
   "execution_count": 4,
   "id": "0f3e8e67",
   "metadata": {},
   "outputs": [],
   "source": [
    "# Step 1: Load data from CSV files\n",
    "premier_league_data = pd.read_csv('premier_league_data.csv')\n",
    "ligue1_data = pd.read_csv('ligue1_data.csv')\n",
    "bundesliga_data = pd.read_csv('bundesliga_data.csv')\n",
    "serie_a_data = pd.read_csv('serie_a_data.csv')"
   ]
  },
  {
   "cell_type": "code",
   "execution_count": 5,
   "id": "d4ea1f5b",
   "metadata": {},
   "outputs": [
    {
     "name": "stdout",
     "output_type": "stream",
     "text": [
      "Index(['Position', 'Club', 'Played', 'Won', 'Drawn', 'Lost', 'GF', 'GA', 'GD',\n",
      "       'Points', 'Season'],\n",
      "      dtype='object')\n",
      "Index(['Season', 'Position', 'Team', 'Points', 'Played', 'Won', 'Drawn',\n",
      "       'Lost', 'GF', 'GA', 'Diff', 'Form'],\n",
      "      dtype='object')\n",
      "Index(['Season', 'Position', 'Team', 'Points', 'Played', 'Won', 'Drawn',\n",
      "       'Lost', 'GF', 'GA', 'Diff'],\n",
      "      dtype='object')\n",
      "Index(['Position', 'Team', 'Points', 'Played', 'Won', 'Drawn', 'Lost', 'GF',\n",
      "       'GA', 'Diff', 'Trend', 'Season'],\n",
      "      dtype='object')\n"
     ]
    }
   ],
   "source": [
    "print(premier_league_data.columns)\n",
    "print(ligue1_data.columns)\n",
    "print(bundesliga_data.columns)\n",
    "print(serie_a_data.columns)"
   ]
  },
  {
   "cell_type": "code",
   "execution_count": 6,
   "id": "dfd22a0b",
   "metadata": {},
   "outputs": [
    {
     "data": {
      "text/plain": [
       "Position    104\n",
       "Club        104\n",
       "Played      104\n",
       "Won         104\n",
       "Drawn       104\n",
       "Lost        104\n",
       "GF          104\n",
       "GA          104\n",
       "GD          104\n",
       "Points      104\n",
       "Season        0\n",
       "dtype: int64"
      ]
     },
     "execution_count": 6,
     "metadata": {},
     "output_type": "execute_result"
    }
   ],
   "source": [
    "premier_league_data.isna().sum()"
   ]
  },
  {
   "cell_type": "code",
   "execution_count": 7,
   "id": "1ee44734",
   "metadata": {},
   "outputs": [],
   "source": [
    "premier_league_data.dropna(inplace=True)"
   ]
  },
  {
   "cell_type": "code",
   "execution_count": 8,
   "id": "76aba712",
   "metadata": {},
   "outputs": [
    {
     "data": {
      "text/plain": [
       "Season      0\n",
       "Position    0\n",
       "Team        0\n",
       "Points      0\n",
       "Played      0\n",
       "Won         0\n",
       "Drawn       0\n",
       "Lost        0\n",
       "GF          0\n",
       "GA          0\n",
       "Diff        0\n",
       "Form        0\n",
       "dtype: int64"
      ]
     },
     "execution_count": 8,
     "metadata": {},
     "output_type": "execute_result"
    }
   ],
   "source": [
    "ligue1_data.isna().sum()"
   ]
  },
  {
   "cell_type": "code",
   "execution_count": 9,
   "id": "79d3813b",
   "metadata": {},
   "outputs": [
    {
     "data": {
      "text/plain": [
       "Season      0\n",
       "Position    0\n",
       "Team        0\n",
       "Points      0\n",
       "Played      0\n",
       "Won         0\n",
       "Drawn       0\n",
       "Lost        0\n",
       "GF          0\n",
       "GA          0\n",
       "Diff        0\n",
       "dtype: int64"
      ]
     },
     "execution_count": 9,
     "metadata": {},
     "output_type": "execute_result"
    }
   ],
   "source": [
    "bundesliga_data.isna().sum()"
   ]
  },
  {
   "cell_type": "code",
   "execution_count": 10,
   "id": "e3f7ce84",
   "metadata": {},
   "outputs": [
    {
     "data": {
      "text/plain": [
       "Position    0\n",
       "Team        0\n",
       "Points      0\n",
       "Played      0\n",
       "Won         0\n",
       "Drawn       0\n",
       "Lost        0\n",
       "GF          0\n",
       "GA          0\n",
       "Diff        0\n",
       "Trend       0\n",
       "Season      0\n",
       "dtype: int64"
      ]
     },
     "execution_count": 10,
     "metadata": {},
     "output_type": "execute_result"
    }
   ],
   "source": [
    "serie_a_data.isna().sum()"
   ]
  },
  {
   "cell_type": "markdown",
   "id": "42c0d96f",
   "metadata": {},
   "source": [
    "# 2. Data Preprocessing"
   ]
  },
  {
   "cell_type": "code",
   "execution_count": 11,
   "id": "9af0a017",
   "metadata": {},
   "outputs": [],
   "source": [
    "# Add a column to identify the league\n",
    "premier_league_data['League'] = 'Premier League'\n",
    "ligue1_data['League'] = 'Ligue 1'\n",
    "bundesliga_data['League'] = 'Bundesliga'\n",
    "serie_a_data['League'] = 'Serie A'"
   ]
  },
  {
   "cell_type": "code",
   "execution_count": 12,
   "id": "7e97dbc6",
   "metadata": {},
   "outputs": [],
   "source": [
    "# Standardize column names and drop irrelevant columns\n",
    "def standardize_columns(df):\n",
    "    relevant_columns = ['Position', 'Team', 'Played', 'Won', 'Drawn', 'Lost', 'GF', 'GA', 'GD', 'Points', 'Season', 'League']\n",
    "    df = df.rename(columns={\n",
    "        'Club': 'Team',\n",
    "        'Diff': 'GD'\n",
    "    })\n",
    "    return df[relevant_columns]"
   ]
  },
  {
   "cell_type": "code",
   "execution_count": 13,
   "id": "6bff8279",
   "metadata": {},
   "outputs": [],
   "source": [
    "premier_league_data = standardize_columns(premier_league_data)\n",
    "ligue1_data = standardize_columns(ligue1_data)\n",
    "bundesliga_data = standardize_columns(bundesliga_data)\n",
    "serie_a_data = standardize_columns(serie_a_data)"
   ]
  },
  {
   "cell_type": "code",
   "execution_count": 14,
   "id": "64fd8d23",
   "metadata": {},
   "outputs": [],
   "source": [
    "# Combine all data into a single DataFrame\n",
    "all_data = pd.concat([premier_league_data, ligue1_data, bundesliga_data, serie_a_data], ignore_index=True)"
   ]
  },
  {
   "cell_type": "code",
   "execution_count": 15,
   "id": "ba20ea10",
   "metadata": {},
   "outputs": [],
   "source": [
    "# Save the combined data to a CSV file\n",
    "all_data.to_csv('combined_league_data.csv', index=False)"
   ]
  },
  {
   "cell_type": "code",
   "execution_count": 16,
   "id": "7ff9364d",
   "metadata": {},
   "outputs": [],
   "source": [
    "# Load the combined data\n",
    "all_data = pd.read_csv('combined_league_data.csv')"
   ]
  },
  {
   "cell_type": "code",
   "execution_count": 17,
   "id": "9d586ae5",
   "metadata": {},
   "outputs": [
    {
     "data": {
      "text/plain": [
       "Position    0\n",
       "Team        0\n",
       "Played      0\n",
       "Won         0\n",
       "Drawn       0\n",
       "Lost        0\n",
       "GF          0\n",
       "GA          0\n",
       "GD          0\n",
       "Points      0\n",
       "Season      0\n",
       "League      0\n",
       "dtype: int64"
      ]
     },
     "execution_count": 17,
     "metadata": {},
     "output_type": "execute_result"
    }
   ],
   "source": [
    "all_data.isna().sum()"
   ]
  },
  {
   "cell_type": "code",
   "execution_count": 18,
   "id": "215f2e7d",
   "metadata": {},
   "outputs": [
    {
     "name": "stdout",
     "output_type": "stream",
     "text": [
      "   Position               Team  Played   Won  Drawn  Lost    GF    GA    GD  \\\n",
      "0       1.0    Manchester City    38.0  28.0    7.0   3.0  96.0  34.0  62.0   \n",
      "1       2.0            Arsenal    38.0  28.0    5.0   5.0  91.0  29.0  62.0   \n",
      "2       3.0          Liverpool    38.0  24.0   10.0   4.0  86.0  41.0  45.0   \n",
      "3       4.0        Aston Villa    38.0  20.0    8.0  10.0  76.0  61.0  15.0   \n",
      "4       5.0  Tottenham Hotspur    38.0  20.0    6.0  12.0  74.0  61.0  13.0   \n",
      "\n",
      "   Points   Season          League  \n",
      "0    91.0  2023/24  Premier League  \n",
      "1    89.0  2023/24  Premier League  \n",
      "2    82.0  2023/24  Premier League  \n",
      "3    68.0  2023/24  Premier League  \n",
      "4    66.0  2023/24  Premier League  \n"
     ]
    }
   ],
   "source": [
    "# Display the combined data structure\n",
    "print(all_data.head())"
   ]
  },
  {
   "cell_type": "markdown",
   "id": "3b13555e",
   "metadata": {},
   "source": [
    "# 3. AI Model"
   ]
  },
  {
   "cell_type": "code",
   "execution_count": 19,
   "id": "aa850322",
   "metadata": {},
   "outputs": [],
   "source": [
    "# Function to train model and predict top 5 teams\n",
    "def train_and_predict(data, league_name):\n",
    "    league_data = data[data['League'] == league_name]\n",
    "    X = league_data[['Points', 'GF', 'GA', 'GD']]\n",
    "    y = league_data['Position']\n",
    "    \n",
    "    # Split the data\n",
    "    X_train, X_test, y_train, y_test = train_test_split(X, y, test_size=0.2, random_state=42)\n",
    "    \n",
    "    # Train the model\n",
    "    model = RandomForestClassifier(n_estimators=100, random_state=42)\n",
    "    model.fit(X_train, y_train)\n",
    "    \n",
    "    # Predict top 5 teams for the upcoming season using latest season's data\n",
    "    latest_season_data = league_data[league_data['Season'] == league_data['Season'].max()]\n",
    "    X_latest = latest_season_data[['Points', 'GF', 'GA', 'GD']]\n",
    "    latest_season_data['Predicted Position'] = model.predict(X_latest)\n",
    "    \n",
    "    # Sort by predicted position and get top 5 teams\n",
    "    top_5_teams = latest_season_data.sort_values(by='Predicted Position').head(5)\n",
    "    \n",
    "    return top_5_teams[['Team', 'Points', 'GF', 'GA', 'GD', 'Predicted Position']]"
   ]
  },
  {
   "cell_type": "code",
   "execution_count": 21,
   "id": "cfc3c8bd",
   "metadata": {},
   "outputs": [],
   "source": [
    "# Predict top 5 teams for each league\n",
    "leagues = ['Premier League', 'Ligue 1', 'Bundesliga', 'Serie A']\n",
    "predictions = {}\n",
    "\n",
    "for league in leagues:\n",
    "    predictions[league] = train_and_predict(all_data, league)"
   ]
  },
  {
   "cell_type": "markdown",
   "id": "2af54950",
   "metadata": {},
   "source": [
    "## Display Predictions"
   ]
  },
  {
   "cell_type": "code",
   "execution_count": 22,
   "id": "7498269d",
   "metadata": {},
   "outputs": [
    {
     "name": "stdout",
     "output_type": "stream",
     "text": [
      "Top 5 teams for Premier League in the upcoming season 2024-25:\n",
      "                Team  Points    GF    GA    GD  Predicted Position\n",
      "0    Manchester City    91.0  96.0  34.0  62.0                 1.0\n",
      "1            Arsenal    89.0  91.0  29.0  62.0                 2.0\n",
      "2          Liverpool    82.0  86.0  41.0  45.0                 3.0\n",
      "3        Aston Villa    68.0  76.0  61.0  15.0                 5.0\n",
      "4  Tottenham Hotspur    66.0  74.0  61.0  13.0                 5.0\n",
      "\n",
      "\n",
      "Top 5 teams for Ligue 1 in the upcoming season 2024-25:\n",
      "                    Team  Points    GF    GA    GD  Predicted Position\n",
      "760  PARIS SAINT-GERMAIN    76.0  81.0  33.0  48.0                 1.0\n",
      "761            AS MONACO    67.0  68.0  42.0  26.0                 2.0\n",
      "762    STADE BRESTOIS 29    61.0  53.0  34.0  19.0                 3.0\n",
      "763           LOSC LILLE    59.0  52.0  34.0  18.0                 4.0\n",
      "765   OLYMPIQUE LYONNAIS    53.0  49.0  55.0  -6.0                 6.0\n",
      "\n",
      "\n",
      "Top 5 teams for Bundesliga in the upcoming season 2024-25:\n",
      "                     Team  Points    GF    GA    GD  Predicted Position\n",
      "1120  Bayer 04 Leverkusen    90.0  89.0  24.0  65.0                 1.0\n",
      "1121        VfB Stuttgart    73.0  78.0  39.0  39.0                 2.0\n",
      "1122    FC Bayern München    72.0  94.0  45.0  49.0                 3.0\n",
      "1123           RB Leipzig    65.0  77.0  39.0  38.0                 4.0\n",
      "1124    Borussia Dortmund    63.0  68.0  43.0  25.0                 5.0\n",
      "\n",
      "\n",
      "Top 5 teams for Serie A in the upcoming season 2024-25:\n",
      "          Team  Points    GF    GA    GD  Predicted Position\n",
      "1558     INTER    93.0  87.0  20.0  67.0                 1.0\n",
      "1559     MILAN    74.0  73.0  46.0  27.0                 2.0\n",
      "1560   BOLOGNA    68.0  54.0  30.0  24.0                 3.0\n",
      "1561  JUVENTUS    68.0  52.0  31.0  21.0                 4.0\n",
      "1562  ATALANTA    66.0  67.0  39.0  28.0                 5.0\n",
      "\n",
      "\n"
     ]
    }
   ],
   "source": [
    "for league, top_5 in predictions.items():\n",
    "    print(f\"Top 5 teams for {league} in the upcoming season 2024-25:\")\n",
    "    print(top_5[['Team', 'Points', 'GF', 'GA', 'GD', 'Predicted Position']])\n",
    "    print(\"\\n\")"
   ]
  }
 ],
 "metadata": {
  "kernelspec": {
   "display_name": "Python 3 (ipykernel)",
   "language": "python",
   "name": "python3"
  },
  "language_info": {
   "codemirror_mode": {
    "name": "ipython",
    "version": 3
   },
   "file_extension": ".py",
   "mimetype": "text/x-python",
   "name": "python",
   "nbconvert_exporter": "python",
   "pygments_lexer": "ipython3",
   "version": "3.10.9"
  }
 },
 "nbformat": 4,
 "nbformat_minor": 5
}
